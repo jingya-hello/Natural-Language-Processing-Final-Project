{
 "cells": [
  {
   "cell_type": "code",
   "execution_count": 2,
   "metadata": {},
   "outputs": [],
   "source": [
    "from collections import defaultdict, Counter\n",
    "from nltk.corpus import wordnet as wn\n",
    "import json"
   ]
  },
  {
   "cell_type": "code",
   "execution_count": 21,
   "metadata": {},
   "outputs": [],
   "source": [
    "config = ['c1','c2','c3','c4','c5','c6','c7','c8','c9','c10','c11']\n",
    "final_dict = defaultdict(lambda: set())\n",
    "with open('result_1.json') as f:\n",
    "    result_dict = json.load(f)\n",
    "for sys in result_dict.keys():\n",
    "    result = []\n",
    "    for s in result_dict[sys]:\n",
    "        if s[0] == 'c7':continue\n",
    "        temp = []\n",
    "        for w in s:\n",
    "            index = w.find('_')\n",
    "            if index > 0:\n",
    "                new_w = w[:index] + ' ' + w[index+1:]\n",
    "                if(new_w.find('_') > -1):continue\n",
    "                temp.append(new_w)\n",
    "            else:temp.append(w)\n",
    "        s = temp\n",
    "        ss = list(filter(lambda x: x not in config, s))\n",
    "        result += ss\n",
    "    final_dict[sys] = set(result)"
   ]
  },
  {
   "cell_type": "code",
   "execution_count": 23,
   "metadata": {},
   "outputs": [
    {
     "name": "stdout",
     "output_type": "stream",
     "text": [
      "{'amorphophallus', 'melaleuca', 'microscopic algae', 'mythos', 'rafflesia', 'crops', 'microbe interactions', 'garry oaks', 'geology botany', 'ixora', 'microbe', 'microbiology lab', 'azalea rhododendron', 'wetland ecology', 'resprout', 'plastics molding', 'endemic flora', 'gardener guide', 'myth', 'entomology', 'clover alfalfa', 'orchids bromeliads', 'ephemerals', 'tome', 'indigenous flora', 'woolen mill', 'soy lecithin', 'iris rhizomes', 'styrenic resins', 'shills', 'vegetatively', 'fungi', 'botanical illustrations', 'understorey', 'purple loosestrife', 'orchids', 'ethnobotanical', 'botanical garden', 'factory', 'herbarium', 'books', 'croton', 'gesneriads', 'woody ornamentals', 'botany', 'pasteurize milk', 'camellias azaleas', 'microbiologist', 'liverwort', 'botanical', 'artificially flavored', 'biodegradable plastics', 'unicellular algae', 'factories', 'allelopathic', 'water hyacinth', 'organisms', 'rhodies', 'xeric', 'biology', 'memoir', 'biochemistry', 'bacterium', 'tropical hibiscus', 'brach candy', 'aquatic flora', 'parasitology', 'sugary syrup', 'starchy tuber', 'fauna', 'herbaceous perennial', 'heucheras', 'potting medium', 'papermill', 'muffin mixes', 'bryophytes', 'mythological', 'margarine shortening', 'mythmakers', 'manufacturing', 'wetland ecosystem', 'twinkie deconstructed', 'scented geranium', 'lace reader', 'seedbank', 'sturdy fibrous', 'mythologies', 'botanic', 'microorganism', 'mycorrhizal fungi', 'mill', 'pharmaceuticals nutraceuticals', 'horticulture', 'acquatic', 'ethnobotany', 'unbleached flour', 'plankton', 'unopened buds', 'endemic species', 'tuberous root', 'native flora', 'biotope', 'thermal hydrolysis', 'seedling vigor', 'vegetative propagation', 'corporatocracy'}\n"
     ]
    }
   ],
   "source": [
    "print(final_dict['plant.n.02'])"
   ]
  },
  {
   "cell_type": "code",
   "execution_count": null,
   "metadata": {},
   "outputs": [],
   "source": []
  }
 ],
 "metadata": {
  "kernelspec": {
   "display_name": "Python 3",
   "language": "python",
   "name": "python3"
  },
  "language_info": {
   "codemirror_mode": {
    "name": "ipython",
    "version": 3
   },
   "file_extension": ".py",
   "mimetype": "text/x-python",
   "name": "python",
   "nbconvert_exporter": "python",
   "pygments_lexer": "ipython3",
   "version": "3.6.4"
  }
 },
 "nbformat": 4,
 "nbformat_minor": 2
}
