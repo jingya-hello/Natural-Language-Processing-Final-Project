{
 "cells": [
  {
   "cell_type": "code",
   "execution_count": 18,
   "metadata": {},
   "outputs": [],
   "source": [
    "from collections import Counter, defaultdict\n",
    "coll = defaultdict(lambda:defaultdict(lambda:(0,0)))"
   ]
  },
  {
   "cell_type": "code",
   "execution_count": 19,
   "metadata": {},
   "outputs": [],
   "source": [
    "prons = ['i','you','your','yours','he','she','they','him','her','them','his','their','it']"
   ]
  },
  {
   "cell_type": "code",
   "execution_count": 20,
   "metadata": {},
   "outputs": [],
   "source": [
    "sentence = ['there were at least 200 people in the audience','old people','his people have been farmers for generations','are your people still alive?']\n"
   ]
  },
  {
   "cell_type": "code",
   "execution_count": 21,
   "metadata": {},
   "outputs": [],
   "source": [
    "for line in open('bnc.coll.small.txt', 'r'):\n",
    "    word, col, dis, count = line.split('\\t')\n",
    "    coll[word][col] = (dis,count)\n",
    "\n",
    "def isCollocation(w1, w2):\n",
    "    if coll[w1][w2][0] != 0:\n",
    "        return True\n",
    "    else:return False"
   ]
  },
  {
   "cell_type": "code",
   "execution_count": 22,
   "metadata": {},
   "outputs": [],
   "source": [
    "highfreq = defaultdict(lambda:0)\n",
    "for words in open('HiFreWords', 'r'):\n",
    "    word = words.split('\\t')\n",
    "    for w in word:\n",
    "        highfreq[w] += 1"
   ]
  },
  {
   "cell_type": "code",
   "execution_count": 23,
   "metadata": {},
   "outputs": [],
   "source": [
    "out = defaultdict(lambda:defaultdict(lambda:0))"
   ]
  },
  {
   "cell_type": "code",
   "execution_count": 24,
   "metadata": {},
   "outputs": [],
   "source": [
    "#for sent in open(\"sentence.txt\",encoding = \"UTF-8\"):\n"
   ]
  },
  {
   "cell_type": "code",
   "execution_count": 54,
   "metadata": {},
   "outputs": [],
   "source": [
    "'''\n",
    "word : the target word\n",
    "sentence : a list of candidate sentence\n",
    "'''\n",
    "def findBestSentence(word, sentence):\n",
    "    score = 0\n",
    "    max_score = 0\n",
    "    max_index = 0\n",
    "    print(sentence)\n",
    "    for sent in sentence:\n",
    "        print('sent', sent)\n",
    "        words = sent.split(' ')\n",
    "        sent_len = len(words)\n",
    "        i = words.index(word)\n",
    "        if sent_len < 8 or sent_len > 20:\n",
    "            score = 0\n",
    "            if(score > max_score):\n",
    "                max_score = score\n",
    "                max_index = i\n",
    "            continue\n",
    "        for d in range(-5,6):\n",
    "            if i+d > sent_len-1 or i+d < 0:\n",
    "                print('out of range', i+d)\n",
    "                continue\n",
    "            score = computeScore(words[i], words[i+d], sent)\n",
    "            print('score ', score)\n",
    "            if(score > max_score):\n",
    "                max_score = score\n",
    "                max_index = i\n",
    "    return sentence[i]\n",
    "    \n",
    "    \n",
    "def computeScore(head, col, sent):\n",
    "    collocationOrNot = 0\n",
    "    if isCollocation(head, col) == True:\n",
    "        collocationOrNot = 5\n",
    "    words = sent.split(' ')\n",
    "    index = words.index(head)\n",
    "    word_not_freq = 0\n",
    "    word_is_prons = 0\n",
    "    for word in words:\n",
    "        if(highfreq[word] is 0):word_not_freq +=1\n",
    "        if(word in prons):word_is_prons += 1\n",
    "    return index - word_not_freq - word_is_prons + collocationOrNot"
   ]
  },
  {
   "cell_type": "code",
   "execution_count": 55,
   "metadata": {},
   "outputs": [
    {
     "name": "stdout",
     "output_type": "stream",
     "text": [
      "['there were at least 200 people in the audience', 'old people', 'his people have been farmers for generations', 'are your people still alive?']\n",
      "sent there were at least 200 people in the audience\n",
      "score  0\n",
      "score  0\n",
      "score  0\n",
      "score  0\n",
      "score  0\n",
      "score  0\n",
      "score  0\n",
      "score  0\n",
      "score  0\n",
      "out of range 9\n",
      "out of range 10\n",
      "sent old people\n",
      "sent his people have been farmers for generations\n",
      "sent are your people still alive?\n",
      "his people have been farmers for generations\n"
     ]
    }
   ],
   "source": [
    "print(findBestSentence('people', sentence))"
   ]
  },
  {
   "cell_type": "code",
   "execution_count": null,
   "metadata": {},
   "outputs": [],
   "source": []
  }
 ],
 "metadata": {
  "kernelspec": {
   "display_name": "Python 3",
   "language": "python",
   "name": "python3"
  },
  "language_info": {
   "codemirror_mode": {
    "name": "ipython",
    "version": 3
   },
   "file_extension": ".py",
   "mimetype": "text/x-python",
   "name": "python",
   "nbconvert_exporter": "python",
   "pygments_lexer": "ipython3",
   "version": "3.6.4"
  }
 },
 "nbformat": 4,
 "nbformat_minor": 2
}
