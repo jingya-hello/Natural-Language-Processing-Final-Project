{
 "cells": [
  {
   "cell_type": "code",
   "execution_count": 13,
   "metadata": {},
   "outputs": [],
   "source": [
    "'''\n",
    "wiki_title dictionary:\n",
    "    key : synset name\n",
    "    value : list of title(string)\n",
    "'''\n",
    "from collections import defaultdict, Counter\n",
    "from nltk.corpus import wordnet as wn"
   ]
  },
  {
   "cell_type": "code",
   "execution_count": 14,
   "metadata": {},
   "outputs": [],
   "source": [
    "threshold1 = 0.15\n",
    "threshold2 = 0.45"
   ]
  },
  {
   "cell_type": "code",
   "execution_count": 15,
   "metadata": {},
   "outputs": [],
   "source": [
    "wiki_title = defaultdict(lambda:list())\n",
    "for line in open(\"alignment.tsv\",encoding = \"UTF-8\"):\n",
    "    l = line.split('\\t')\n",
    "    offset = int(l[0])\n",
    "    title = l[1].lower()\n",
    "    p1 = float(l[2])\n",
    "    p2 = float(l[3])\n",
    "    if(p1 < threshold1 and p2 < threshold2):continue\n",
    "    sys = wn.synset_from_pos_and_offset('n', offset).name()\n",
    "    wiki_title[sys].append(title)"
   ]
  },
  {
   "cell_type": "code",
   "execution_count": 17,
   "metadata": {},
   "outputs": [
    {
     "name": "stdout",
     "output_type": "stream",
     "text": [
      "['plant (control theory)', 'works (pink floyd album)']\n"
     ]
    }
   ],
   "source": [
    "#print(wiki_title['plant.n.01'])"
   ]
  },
  {
   "cell_type": "code",
   "execution_count": null,
   "metadata": {},
   "outputs": [],
   "source": []
  }
 ],
 "metadata": {
  "kernelspec": {
   "display_name": "Python 3",
   "language": "python",
   "name": "python3"
  },
  "language_info": {
   "codemirror_mode": {
    "name": "ipython",
    "version": 3
   },
   "file_extension": ".py",
   "mimetype": "text/x-python",
   "name": "python",
   "nbconvert_exporter": "python",
   "pygments_lexer": "ipython3",
   "version": "3.6.4"
  }
 },
 "nbformat": 4,
 "nbformat_minor": 2
}
