{
 "cells": [
  {
   "cell_type": "code",
   "execution_count": 1,
   "metadata": {},
   "outputs": [
    {
     "ename": "KeyboardInterrupt",
     "evalue": "",
     "output_type": "error",
     "traceback": [
      "\u001b[0;31m---------------------------------------------------------------------------\u001b[0m",
      "\u001b[0;31mKeyboardInterrupt\u001b[0m                         Traceback (most recent call last)",
      "\u001b[0;32m<ipython-input-1-30a678b223e9>\u001b[0m in \u001b[0;36m<module>\u001b[0;34m()\u001b[0m\n\u001b[1;32m      1\u001b[0m \u001b[0;32mfrom\u001b[0m \u001b[0mgensim\u001b[0m\u001b[0;34m.\u001b[0m\u001b[0mmodels\u001b[0m \u001b[0;32mimport\u001b[0m \u001b[0mKeyedVectors\u001b[0m\u001b[0;34m\u001b[0m\u001b[0m\n\u001b[1;32m      2\u001b[0m \u001b[0;32mimport\u001b[0m \u001b[0mlogging\u001b[0m\u001b[0;34m\u001b[0m\u001b[0m\n\u001b[0;32m----> 3\u001b[0;31m \u001b[0mmodel\u001b[0m \u001b[0;34m=\u001b[0m \u001b[0mKeyedVectors\u001b[0m\u001b[0;34m.\u001b[0m\u001b[0mload_word2vec_format\u001b[0m\u001b[0;34m(\u001b[0m\u001b[0;34m'GoogleNews-vectors-negative300.bin'\u001b[0m\u001b[0;34m,\u001b[0m \u001b[0mbinary\u001b[0m\u001b[0;34m=\u001b[0m\u001b[0;32mTrue\u001b[0m\u001b[0;34m)\u001b[0m\u001b[0;34m\u001b[0m\u001b[0m\n\u001b[0m",
      "\u001b[0;32m/Library/Frameworks/Python.framework/Versions/3.6/lib/python3.6/site-packages/gensim/models/keyedvectors.py\u001b[0m in \u001b[0;36mload_word2vec_format\u001b[0;34m(cls, fname, fvocab, binary, encoding, unicode_errors, limit, datatype)\u001b[0m\n\u001b[1;32m   1117\u001b[0m         return _load_word2vec_format(\n\u001b[1;32m   1118\u001b[0m             \u001b[0mWord2VecKeyedVectors\u001b[0m\u001b[0;34m,\u001b[0m \u001b[0mfname\u001b[0m\u001b[0;34m,\u001b[0m \u001b[0mfvocab\u001b[0m\u001b[0;34m=\u001b[0m\u001b[0mfvocab\u001b[0m\u001b[0;34m,\u001b[0m \u001b[0mbinary\u001b[0m\u001b[0;34m=\u001b[0m\u001b[0mbinary\u001b[0m\u001b[0;34m,\u001b[0m \u001b[0mencoding\u001b[0m\u001b[0;34m=\u001b[0m\u001b[0mencoding\u001b[0m\u001b[0;34m,\u001b[0m \u001b[0municode_errors\u001b[0m\u001b[0;34m=\u001b[0m\u001b[0municode_errors\u001b[0m\u001b[0;34m,\u001b[0m\u001b[0;34m\u001b[0m\u001b[0m\n\u001b[0;32m-> 1119\u001b[0;31m             limit=limit, datatype=datatype)\n\u001b[0m\u001b[1;32m   1120\u001b[0m \u001b[0;34m\u001b[0m\u001b[0m\n\u001b[1;32m   1121\u001b[0m     \u001b[0;32mdef\u001b[0m \u001b[0mget_keras_embedding\u001b[0m\u001b[0;34m(\u001b[0m\u001b[0mself\u001b[0m\u001b[0;34m,\u001b[0m \u001b[0mtrain_embeddings\u001b[0m\u001b[0;34m=\u001b[0m\u001b[0;32mFalse\u001b[0m\u001b[0;34m)\u001b[0m\u001b[0;34m:\u001b[0m\u001b[0;34m\u001b[0m\u001b[0m\n",
      "\u001b[0;32m/Library/Frameworks/Python.framework/Versions/3.6/lib/python3.6/site-packages/gensim/models/utils_any2vec.py\u001b[0m in \u001b[0;36m_load_word2vec_format\u001b[0;34m(cls, fname, fvocab, binary, encoding, unicode_errors, limit, datatype)\u001b[0m\n\u001b[1;32m    210\u001b[0m                         \u001b[0;32mraise\u001b[0m \u001b[0mEOFError\u001b[0m\u001b[0;34m(\u001b[0m\u001b[0;34m\"unexpected end of input; is count incorrect or file otherwise damaged?\"\u001b[0m\u001b[0;34m)\u001b[0m\u001b[0;34m\u001b[0m\u001b[0m\n\u001b[1;32m    211\u001b[0m                     \u001b[0;32mif\u001b[0m \u001b[0mch\u001b[0m \u001b[0;34m!=\u001b[0m \u001b[0;34mb'\\n'\u001b[0m\u001b[0;34m:\u001b[0m  \u001b[0;31m# ignore newlines in front of words (some binary files have)\u001b[0m\u001b[0;34m\u001b[0m\u001b[0m\n\u001b[0;32m--> 212\u001b[0;31m                         \u001b[0mword\u001b[0m\u001b[0;34m.\u001b[0m\u001b[0mappend\u001b[0m\u001b[0;34m(\u001b[0m\u001b[0mch\u001b[0m\u001b[0;34m)\u001b[0m\u001b[0;34m\u001b[0m\u001b[0m\n\u001b[0m\u001b[1;32m    213\u001b[0m                 \u001b[0mword\u001b[0m \u001b[0;34m=\u001b[0m \u001b[0mutils\u001b[0m\u001b[0;34m.\u001b[0m\u001b[0mto_unicode\u001b[0m\u001b[0;34m(\u001b[0m\u001b[0;34mb''\u001b[0m\u001b[0;34m.\u001b[0m\u001b[0mjoin\u001b[0m\u001b[0;34m(\u001b[0m\u001b[0mword\u001b[0m\u001b[0;34m)\u001b[0m\u001b[0;34m,\u001b[0m \u001b[0mencoding\u001b[0m\u001b[0;34m=\u001b[0m\u001b[0mencoding\u001b[0m\u001b[0;34m,\u001b[0m \u001b[0merrors\u001b[0m\u001b[0;34m=\u001b[0m\u001b[0municode_errors\u001b[0m\u001b[0;34m)\u001b[0m\u001b[0;34m\u001b[0m\u001b[0m\n\u001b[1;32m    214\u001b[0m                 \u001b[0mweights\u001b[0m \u001b[0;34m=\u001b[0m \u001b[0mfromstring\u001b[0m\u001b[0;34m(\u001b[0m\u001b[0mfin\u001b[0m\u001b[0;34m.\u001b[0m\u001b[0mread\u001b[0m\u001b[0;34m(\u001b[0m\u001b[0mbinary_len\u001b[0m\u001b[0;34m)\u001b[0m\u001b[0;34m,\u001b[0m \u001b[0mdtype\u001b[0m\u001b[0;34m=\u001b[0m\u001b[0mREAL\u001b[0m\u001b[0;34m)\u001b[0m\u001b[0;34m.\u001b[0m\u001b[0mastype\u001b[0m\u001b[0;34m(\u001b[0m\u001b[0mdatatype\u001b[0m\u001b[0;34m)\u001b[0m\u001b[0;34m\u001b[0m\u001b[0m\n",
      "\u001b[0;31mKeyboardInterrupt\u001b[0m: "
     ]
    }
   ],
   "source": [
    "from gensim.models import KeyedVectors\n",
    "import logging\n",
    "model = KeyedVectors.load_word2vec_format('GoogleNews-vectors-negative300.bin', binary=True)"
   ]
  },
  {
   "cell_type": "code",
   "execution_count": 2,
   "metadata": {},
   "outputs": [
    {
     "name": "stdout",
     "output_type": "stream",
     "text": [
      "[('princess', 0.7502896785736084), ('woman', 0.6485176682472229), ('boy', 0.6463011503219604), ('teenage_girl', 0.6456236243247986), ('schoolgirl', 0.634289026260376), ('princesses', 0.6096479296684265), ('queens', 0.6018693447113037), ('very_pampered_McElhatton', 0.6009961366653442), ('teenager', 0.5932971239089966), ('lady', 0.5854376554489136)]\n"
     ]
    }
   ],
   "source": [
    "target = ['queen', 'girl']\n",
    "print(model.most_similar(target))"
   ]
  },
  {
   "cell_type": "code",
   "execution_count": 11,
   "metadata": {},
   "outputs": [
    {
     "name": "stdout",
     "output_type": "stream",
     "text": [
      "resentment,0.7837026715278625\n",
      "fury,0.7359366416931152\n",
      "frustration,0.7355940937995911\n",
      "outrage,0.7234513759613037\n",
      "discontent,0.6970604658126831\n",
      "unhappiness,0.6912130117416382\n",
      "disgust,0.6864397525787354\n",
      "indignation,0.6858266592025757\n",
      "Anger,0.6647020578384399\n",
      "dissatisfaction,0.6373518109321594\n"
     ]
    }
   ],
   "source": [
    "emotion = 'anger'\n",
    "res = model.most_similar(emotion,topn = 10)\n",
    "for item in res:\n",
    "    print(item[0]+\",\"+str(item[1]))"
   ]
  },
  {
   "cell_type": "code",
   "execution_count": 12,
   "metadata": {},
   "outputs": [
    {
     "name": "stdout",
     "output_type": "stream",
     "text": [
      "fearful,0.6968433856964111\n",
      "fears,0.6871393322944641\n",
      "Fear,0.6570798754692078\n",
      "fearing,0.6412293910980225\n",
      "worry,0.6376557350158691\n",
      "dread,0.595678985118866\n",
      "feared,0.5928555727005005\n",
      "anxiety,0.578746497631073\n",
      "apprehension,0.5608136057853699\n",
      "afraid,0.5580464005470276\n"
     ]
    }
   ],
   "source": [
    "emotion = 'fear'\n",
    "res = model.most_similar(emotion,topn = 10)\n",
    "for item in res:\n",
    "    print(item[0]+\",\"+str(item[1]))"
   ]
  },
  {
   "cell_type": "code",
   "execution_count": 13,
   "metadata": {},
   "outputs": [
    {
     "name": "stdout",
     "output_type": "stream",
     "text": [
      "contentment,0.7695192098617554\n",
      "joy,0.6182847023010254\n",
      "Happiness,0.6116277575492859\n",
      "hapiness,0.574855625629425\n",
      "contentedness,0.5574802756309509\n",
      "happiness_quotient,0.5532098412513733\n",
      "prosocial_spending,0.5406399369239807\n",
      "happyness,0.5387448668479919\n",
      "marital_bliss,0.5288689732551575\n",
      "satisfaction,0.5283578634262085\n"
     ]
    }
   ],
   "source": [
    "emotion = 'happiness'\n",
    "res = model.most_similar(emotion,topn = 10)\n",
    "for item in res:\n",
    "    print(item[0]+\",\"+str(item[1]))"
   ]
  },
  {
   "cell_type": "code",
   "execution_count": 16,
   "metadata": {},
   "outputs": [
    {
     "name": "stdout",
     "output_type": "stream",
     "text": [
      "sorrow,0.8653063178062439\n",
      "grief,0.7104111909866333\n",
      "profound_sadness,0.6925923824310303\n",
      "anguish,0.6861849427223206\n",
      "saddness,0.6407450437545776\n",
      "despair,0.6218048930168152\n",
      "elation,0.6151503920555115\n",
      "profound_sorrow,0.6103730797767639\n",
      "regret,0.6071218848228455\n",
      "Sadness,0.5991244316101074\n"
     ]
    }
   ],
   "source": [
    "emotion = 'sadness'\n",
    "res = model.most_similar(emotion,topn = 10)\n",
    "for item in res:\n",
    "    print(item[0]+\",\"+str(item[1]))"
   ]
  },
  {
   "cell_type": "code",
   "execution_count": 17,
   "metadata": {},
   "outputs": [
    {
     "name": "stdout",
     "output_type": "stream",
     "text": [
      "Neutral,0.6092690229415894\n",
      "netural,0.5849581956863403\n",
      "webinars_DIA,0.5474033951759338\n",
      "equalweight,0.5049619674682617\n",
      "iWay_Software_vendor,0.5008439421653748\n",
      "nuetral,0.49808651208877563\n",
      "UBS_Warburg_upgraded,0.47844234108924866\n",
      "LiveTime_vendor,0.46886470913887024\n",
      "RelayHealth_McKesson_connectivity,0.4648449122905731\n",
      "Bridgewell_Securities_downgraded,0.46131810545921326\n"
     ]
    }
   ],
   "source": [
    "emotion = 'neutral'\n",
    "res = model.most_similar(emotion,topn = 10)\n",
    "for item in res:\n",
    "    print(item[0]+\",\"+str(item[1]))"
   ]
  },
  {
   "cell_type": "code",
   "execution_count": 18,
   "metadata": {},
   "outputs": [
    {
     "name": "stdout",
     "output_type": "stream",
     "text": [
      "suprise,0.7433162927627563\n",
      "surprising,0.6745032668113708\n",
      "pleasant_surprise,0.6525507569313049\n",
      "shocker,0.650870144367218\n",
      "surpise,0.6233117580413818\n",
      "surprises,0.599068820476532\n",
      "surprised,0.594841718673706\n",
      "shock,0.571144163608551\n",
      "disappointment,0.5367384552955627\n",
      "suprising,0.5209904313087463\n"
     ]
    }
   ],
   "source": [
    "emotion = 'surprise'\n",
    "res = model.most_similar(emotion,topn = 10)\n",
    "for item in res:\n",
    "    print(item[0]+\",\"+str(item[1]))"
   ]
  },
  {
   "cell_type": "code",
   "execution_count": 19,
   "metadata": {},
   "outputs": [
    {
     "name": "stdout",
     "output_type": "stream",
     "text": [
      "dismay,0.736036479473114\n",
      "exasperation,0.7116752862930298\n",
      "frustration,0.7021781802177429\n",
      "indignation,0.691394567489624\n",
      "anger,0.6864397525787354\n",
      "revulsion,0.6746655106544495\n",
      "utter_disgust,0.6678956747055054\n",
      "disdain,0.6642622351646423\n",
      "bewilderment,0.6635772585868835\n",
      "displeasure,0.6562960743904114\n"
     ]
    }
   ],
   "source": [
    "emotion = 'disgust'\n",
    "res = model.most_similar(emotion,topn = 10)\n",
    "for item in res:\n",
    "    print(item[0]+\",\"+str(item[1]))"
   ]
  },
  {
   "cell_type": "code",
   "execution_count": null,
   "metadata": {},
   "outputs": [],
   "source": [
    "import flickrapi\n",
    "api_key = 'b6a5151fec8a3d647b54c19fc37f33cd'\n",
    "api_secret = 'f523d7cba53511fb'"
   ]
  },
  {
   "cell_type": "code",
   "execution_count": null,
   "metadata": {},
   "outputs": [],
   "source": [
    "flickr=flickrapi.FlickrAPI(api_key,api_secret,cache=True)\n",
    "\n",
    "def flickr_walk(keyward):\n",
    "    photos = flickr.walk(text=keyward,\n",
    "                         tag_mode='all',\n",
    "                         tags=keyward,\n",
    "                         extras='url_c',\n",
    "                         per_page=100,\n",
    "                         sort=\"relevance\")\n",
    "\n",
    "    for photo in photos:\n",
    "        try:\n",
    "            url=photo.get('url_c')\n",
    "            print(url)\n",
    "\n",
    "        except Exception as e:\n",
    "            print('failed to download image')"
   ]
  },
  {
   "cell_type": "code",
   "execution_count": null,
   "metadata": {},
   "outputs": [],
   "source": [
    "flickr_walk('anger')"
   ]
  },
  {
   "cell_type": "code",
   "execution_count": null,
   "metadata": {},
   "outputs": [],
   "source": [
    "def flickr_search(keyward):\n",
    "    obj = flickr.photos.search(text=keyward,\n",
    "                               tags=keyward,\n",
    "                               extras='url_c',\n",
    "                               per_page=5)\n",
    "\n",
    "    for photo in obj:\n",
    "        url=photo.get('url_c')\n",
    "        photos = ET.dump(obj)\n",
    "        print (photos)"
   ]
  }
 ],
 "metadata": {
  "kernelspec": {
   "display_name": "Python 3",
   "language": "python",
   "name": "python3"
  },
  "language_info": {
   "codemirror_mode": {
    "name": "ipython",
    "version": 3
   },
   "file_extension": ".py",
   "mimetype": "text/x-python",
   "name": "python",
   "nbconvert_exporter": "python",
   "pygments_lexer": "ipython3",
   "version": "3.6.4"
  }
 },
 "nbformat": 4,
 "nbformat_minor": 2
}
