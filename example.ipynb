{
 "cells": [
  {
   "cell_type": "markdown",
   "metadata": {},
   "source": [
    "# Extracting Sense-Disambiguated Example Sentences From Parallel Corpora #"
   ]
  },
  {
   "cell_type": "code",
   "execution_count": 1,
   "metadata": {},
   "outputs": [],
   "source": [
    "from nltk.corpus import wordnet as wn"
   ]
  },
  {
   "cell_type": "code",
   "execution_count": 2,
   "metadata": {},
   "outputs": [],
   "source": [
    "def findHyper(sys):\n",
    "    return sys.hypernyms()\n",
    "\n",
    "def findHypo(sys):\n",
    "    return sys.hyponyms()"
   ]
  },
  {
   "cell_type": "code",
   "execution_count": 3,
   "metadata": {},
   "outputs": [],
   "source": [
    "def deviation(word, sys):\n",
    "    if sys in word.synsets():\n",
    "        return 1\n",
    "    else:\n",
    "        return 0"
   ]
  },
  {
   "cell_type": "code",
   "execution_count": null,
   "metadata": {},
   "outputs": [],
   "source": [
    "from nltk.stem import PorterStemmer\n",
    "ps = PorterStemmer()\n",
    "#ps.stem(a list)"
   ]
  },
  {
   "cell_type": "code",
   "execution_count": null,
   "metadata": {},
   "outputs": [],
   "source": [
    "from gensim.models import KeyedVectors\n",
    "import logging\n",
    "model = KeyedVectors.load_word2vec_format('GoogleNews-vectors-negative300.bin', binary=True)"
   ]
  },
  {
   "cell_type": "code",
   "execution_count": null,
   "metadata": {},
   "outputs": [],
   "source": [
    "def sim(s1, s2):\n",
    "    if s1 == s2:return 1\n",
    "    if s1 in s2.hypernyms():return 1\n",
    "    if s2 in s1.hypernyms():return 1\n",
    "    if s1 in s2.hyponyms():return 1\n",
    "    if s2 in s1.hyponyms():return 1\n",
    "    return 0"
   ]
  },
  {
   "cell_type": "code",
   "execution_count": null,
   "metadata": {},
   "outputs": [],
   "source": [
    "def wsd(t,s):\n",
    "    s_word = s.name().split('.')[0]\n",
    "    return deviation(t,s) * (0.3 + model.similarity(t,s_word))"
   ]
  },
  {
   "cell_type": "code",
   "execution_count": null,
   "metadata": {},
   "outputs": [],
   "source": [
    "def csim(tb, sa):\n",
    "    result = 0\n",
    "    for sb in tb.sysets():\n",
    "        result += sim(sa,sb) * wsd(tb, sb)"
   ]
  },
  {
   "cell_type": "code",
   "execution_count": null,
   "metadata": {},
   "outputs": [],
   "source": [
    "def score(ta, sa):\n",
    "    sum = 0\n",
    "    for sp in ta.synsets():\n",
    "        deviation(ta, sp) * csim()\n",
    "    wsd(ta, sa)*(deviation(ta, sa)csim(tb, sa))"
   ]
  }
 ],
 "metadata": {
  "kernelspec": {
   "display_name": "Python 3",
   "language": "python",
   "name": "python3"
  },
  "language_info": {
   "codemirror_mode": {
    "name": "ipython",
    "version": 3
   },
   "file_extension": ".py",
   "mimetype": "text/x-python",
   "name": "python",
   "nbconvert_exporter": "python",
   "pygments_lexer": "ipython3",
   "version": "3.6.4"
  }
 },
 "nbformat": 4,
 "nbformat_minor": 2
}
